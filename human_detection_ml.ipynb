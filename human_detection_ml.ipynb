{
  "nbformat": 4,
  "nbformat_minor": 0,
  "metadata": {
    "colab": {
      "provenance": [],
      "gpuType": "T4",
      "authorship_tag": "ABX9TyMEFaoQaRng332w+9AHNeZ6"
    },
    "kernelspec": {
      "name": "python3",
      "display_name": "Python 3"
    },
    "language_info": {
      "name": "python"
    },
    "accelerator": "GPU"
  },
  "cells": [
    {
      "cell_type": "code",
      "execution_count": 2,
      "metadata": {
        "colab": {
          "base_uri": "https://localhost:8080/",
          "height": 401
        },
        "id": "y94WR31lyYdx",
        "outputId": "6254406b-2b46-435b-c251-fff35ad070df"
      },
      "outputs": [
        {
          "output_type": "stream",
          "name": "stdout",
          "text": [
            "Path to dataset files: /root/.cache/kagglehub/datasets/constantinwerner/human-detection-dataset/versions/5\n",
            "Dataset folder found at: /root/.cache/kagglehub/datasets/constantinwerner/human-detection-dataset/versions/5/human detection dataset\n",
            "Subfolders in dataset: ['1', '0']\n",
            "Processing 559 images in subfolder: 1\n"
          ]
        },
        {
          "output_type": "error",
          "ename": "KeyboardInterrupt",
          "evalue": "",
          "traceback": [
            "\u001b[0;31m---------------------------------------------------------------------------\u001b[0m",
            "\u001b[0;31mKeyboardInterrupt\u001b[0m                         Traceback (most recent call last)",
            "\u001b[0;32m<ipython-input-2-1d1f1f236a32>\u001b[0m in \u001b[0;36m<cell line: 31>\u001b[0;34m()\u001b[0m\n\u001b[1;32m     52\u001b[0m             \u001b[0;32melse\u001b[0m\u001b[0;34m:\u001b[0m\u001b[0;34m\u001b[0m\u001b[0;34m\u001b[0m\u001b[0m\n\u001b[1;32m     53\u001b[0m                 \u001b[0;31m# Process image and append features/labels\u001b[0m\u001b[0;34m\u001b[0m\u001b[0;34m\u001b[0m\u001b[0m\n\u001b[0;32m---> 54\u001b[0;31m                 \u001b[0mhuman_count\u001b[0m \u001b[0;34m=\u001b[0m \u001b[0mdetect_humans\u001b[0m\u001b[0;34m(\u001b[0m\u001b[0mimage\u001b[0m\u001b[0;34m)\u001b[0m\u001b[0;34m\u001b[0m\u001b[0;34m\u001b[0m\u001b[0m\n\u001b[0m\u001b[1;32m     55\u001b[0m                 \u001b[0mX\u001b[0m\u001b[0;34m.\u001b[0m\u001b[0mappend\u001b[0m\u001b[0;34m(\u001b[0m\u001b[0;34m[\u001b[0m\u001b[0mhuman_count\u001b[0m\u001b[0;34m]\u001b[0m\u001b[0;34m)\u001b[0m\u001b[0;34m\u001b[0m\u001b[0;34m\u001b[0m\u001b[0m\n\u001b[1;32m     56\u001b[0m                 \u001b[0my\u001b[0m\u001b[0;34m.\u001b[0m\u001b[0mappend\u001b[0m\u001b[0;34m(\u001b[0m\u001b[0;36m1\u001b[0m \u001b[0;32mif\u001b[0m \u001b[0mhuman_count\u001b[0m \u001b[0;34m>\u001b[0m \u001b[0;36m0\u001b[0m \u001b[0;32melse\u001b[0m \u001b[0;36m0\u001b[0m\u001b[0;34m)\u001b[0m\u001b[0;34m\u001b[0m\u001b[0;34m\u001b[0m\u001b[0m\n",
            "\u001b[0;32m<ipython-input-2-1d1f1f236a32>\u001b[0m in \u001b[0;36mdetect_humans\u001b[0;34m(image)\u001b[0m\n\u001b[1;32m     13\u001b[0m     \u001b[0mhog\u001b[0m\u001b[0;34m.\u001b[0m\u001b[0msetSVMDetector\u001b[0m\u001b[0;34m(\u001b[0m\u001b[0mcv2\u001b[0m\u001b[0;34m.\u001b[0m\u001b[0mHOGDescriptor_getDefaultPeopleDetector\u001b[0m\u001b[0;34m(\u001b[0m\u001b[0;34m)\u001b[0m\u001b[0;34m)\u001b[0m\u001b[0;34m\u001b[0m\u001b[0;34m\u001b[0m\u001b[0m\n\u001b[1;32m     14\u001b[0m     \u001b[0mgray_image\u001b[0m \u001b[0;34m=\u001b[0m \u001b[0mcv2\u001b[0m\u001b[0;34m.\u001b[0m\u001b[0mcvtColor\u001b[0m\u001b[0;34m(\u001b[0m\u001b[0mimage\u001b[0m\u001b[0;34m,\u001b[0m \u001b[0mcv2\u001b[0m\u001b[0;34m.\u001b[0m\u001b[0mCOLOR_BGR2GRAY\u001b[0m\u001b[0;34m)\u001b[0m\u001b[0;34m\u001b[0m\u001b[0;34m\u001b[0m\u001b[0m\n\u001b[0;32m---> 15\u001b[0;31m     \u001b[0mboxes\u001b[0m\u001b[0;34m,\u001b[0m \u001b[0mweights\u001b[0m \u001b[0;34m=\u001b[0m \u001b[0mhog\u001b[0m\u001b[0;34m.\u001b[0m\u001b[0mdetectMultiScale\u001b[0m\u001b[0;34m(\u001b[0m\u001b[0mgray_image\u001b[0m\u001b[0;34m,\u001b[0m \u001b[0mwinStride\u001b[0m\u001b[0;34m=\u001b[0m\u001b[0;34m(\u001b[0m\u001b[0;36m8\u001b[0m\u001b[0;34m,\u001b[0m \u001b[0;36m8\u001b[0m\u001b[0;34m)\u001b[0m\u001b[0;34m,\u001b[0m \u001b[0mpadding\u001b[0m\u001b[0;34m=\u001b[0m\u001b[0;34m(\u001b[0m\u001b[0;36m8\u001b[0m\u001b[0;34m,\u001b[0m \u001b[0;36m8\u001b[0m\u001b[0;34m)\u001b[0m\u001b[0;34m,\u001b[0m \u001b[0mscale\u001b[0m\u001b[0;34m=\u001b[0m\u001b[0;36m1.05\u001b[0m\u001b[0;34m)\u001b[0m\u001b[0;34m\u001b[0m\u001b[0;34m\u001b[0m\u001b[0m\n\u001b[0m\u001b[1;32m     16\u001b[0m     \u001b[0;32mreturn\u001b[0m \u001b[0mlen\u001b[0m\u001b[0;34m(\u001b[0m\u001b[0mboxes\u001b[0m\u001b[0;34m)\u001b[0m\u001b[0;34m\u001b[0m\u001b[0;34m\u001b[0m\u001b[0m\n\u001b[1;32m     17\u001b[0m \u001b[0;34m\u001b[0m\u001b[0m\n",
            "\u001b[0;31mKeyboardInterrupt\u001b[0m: "
          ]
        }
      ],
      "source": [
        "import os\n",
        "import cv2\n",
        "import numpy as np\n",
        "import kagglehub\n",
        "from sklearn.model_selection import train_test_split\n",
        "from sklearn.ensemble import RandomForestClassifier\n",
        "from sklearn.metrics import accuracy_score, confusion_matrix, classification_report\n",
        "import pickle\n",
        "\n",
        "# Function to detect humans using HOGDescriptor\n",
        "def detect_humans(image):\n",
        "    hog = cv2.HOGDescriptor()\n",
        "    hog.setSVMDetector(cv2.HOGDescriptor_getDefaultPeopleDetector())\n",
        "    gray_image = cv2.cvtColor(image, cv2.COLOR_BGR2GRAY)\n",
        "    boxes, weights = hog.detectMultiScale(gray_image, winStride=(8, 8), padding=(8, 8), scale=1.05)\n",
        "    return len(boxes)\n",
        "\n",
        "# Download dataset using KaggleHub\n",
        "image_path = kagglehub.dataset_download(\"constantinwerner/human-detection-dataset\")\n",
        "print(\"Path to dataset files:\", image_path)\n",
        "\n",
        "# Define dataset path\n",
        "dataset_version_path = '/root/.cache/kagglehub/datasets/constantinwerner/human-detection-dataset/versions/5'\n",
        "image_folder = os.path.join(dataset_version_path, 'human detection dataset')\n",
        "\n",
        "# Initialize feature and label arrays\n",
        "X = []\n",
        "y = []\n",
        "\n",
        "# Verify dataset folder exists\n",
        "if os.path.exists(image_folder):\n",
        "    print(f\"Dataset folder found at: {image_folder}\")\n",
        "    subfolders = [f for f in os.listdir(image_folder) if os.path.isdir(os.path.join(image_folder, f))]\n",
        "    print(\"Subfolders in dataset:\", subfolders)\n",
        "\n",
        "    processed_images = set()\n",
        "\n",
        "    for subfolder in subfolders:\n",
        "        subfolder_path = os.path.join(image_folder, subfolder)\n",
        "        image_files = os.listdir(subfolder_path)\n",
        "        print(f\"Processing {len(image_files)} images in subfolder: {subfolder}\")\n",
        "\n",
        "        for i, image_file in enumerate(image_files):\n",
        "            image_full_path = os.path.join(subfolder_path, image_file)\n",
        "\n",
        "            if image_full_path in processed_images:\n",
        "                continue\n",
        "\n",
        "            image = cv2.imread(image_full_path)\n",
        "            if image is None:\n",
        "                print(f\"Warning: Failed to load image from {image_full_path}\")\n",
        "            else:\n",
        "                # Process image and append features/labels\n",
        "                human_count = detect_humans(image)\n",
        "                X.append([human_count])\n",
        "                y.append(1 if human_count > 0 else 0)\n",
        "                processed_images.add(image_full_path)\n",
        "\n",
        "    # Check if data was collected successfully\n",
        "    if len(X) > 0 and len(y) > 0:\n",
        "        print(f\"Data collection complete. Total samples: {len(X)}.\")\n",
        "\n",
        "        # Split data into training and testing sets\n",
        "        X_train, X_test, y_train, y_test = train_test_split(X, y, test_size=0.3, random_state=42)\n",
        "        print(f\"Training samples: {len(X_train)}, Testing samples: {len(X_test)}\")\n",
        "\n",
        "        # Train Random Forest model\n",
        "        clf = RandomForestClassifier(n_estimators=100, random_state=42)\n",
        "        clf.fit(X_train, y_train)\n",
        "        print(\"Model training complete.\")\n",
        "\n",
        "        # Evaluate model\n",
        "        y_pred = clf.predict(X_test)\n",
        "        accuracy = accuracy_score(y_test, y_pred)\n",
        "        print(f\"Model Accuracy: {accuracy:.2f}\")\n",
        "        print(\"Confusion Matrix:\")\n",
        "        print(confusion_matrix(y_test, y_pred))\n",
        "        print(\"Classification Report:\")\n",
        "        print(classification_report(y_test, y_pred))\n",
        "\n",
        "        # Save the trained model\n",
        "        model_filename = \"human_detection_ml_model.pkl\"\n",
        "        with open(model_filename, \"wb\") as model_file:\n",
        "            pickle.dump(clf, model_file)\n",
        "        print(f\"Model saved to {model_filename}.\")\n",
        "\n",
        "    else:\n",
        "        print(\"No data was collected. Please verify the dataset path and structure.\")\n",
        "\n",
        "else:\n",
        "    print(f\"Dataset folder does not exist at {image_folder}. Please verify the path.\")\n"
      ]
    }
  ]
}